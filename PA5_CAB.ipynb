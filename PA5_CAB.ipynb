{
 "cells": [
  {
   "cell_type": "markdown",
   "id": "51529457-74c5-4781-ab9e-b6557292748d",
   "metadata": {},
   "source": [
    "# Programming Assignment 5\n",
    "---\n",
    "**Author:** Carson Brower  \n",
    "**Version:** 1.0  \n",
    "**Semester:** Spring 2024 \n",
    "\n",
    "This *notebook* contains my solution(s) to **Programming Assignment 5**"
   ]
  },
  {
   "cell_type": "markdown",
   "id": "4798e0c5-4c11-4082-a193-4f8225a49543",
   "metadata": {},
   "source": [
    "### Problem 1 - Language Translator"
   ]
  },
  {
   "cell_type": "code",
   "execution_count": 16,
   "id": "af5d0e6f-1d5c-4cce-ba65-715d54080dad",
   "metadata": {
    "tags": []
   },
   "outputs": [
    {
     "name": "stdin",
     "output_type": "stream",
     "text": [
      "Enter a word to translate from English to Spanish (enter Q to stop):  Q\n"
     ]
    }
   ],
   "source": [
    "translations = dict([\n",
    "    ('couch', 'sofá'),\n",
    "    ('chair', 'silla'),\n",
    "    ('man', 'hombre'),\n",
    "    ('woman', 'mujer'),\n",
    "    ('bear', 'oso'),\n",
    "    ('cat', 'gato'),\n",
    "    ('dog', 'perro'),\n",
    "    ('one', 'uno'),\n",
    "    ('child', 'nino'),\n",
    "    ('sun', 'sol'),\n",
    "    ('moon', 'luna'),\n",
    "    ('earth', 'tierra'),\n",
    "    ('truth', 'verdad'),\n",
    "    ('false', 'falso'),\n",
    "    ('book', 'libro'),\n",
    "    ('word', 'palabra'),\n",
    "    ('hello', 'hola'),\n",
    "    ('goodbye', 'adios'),\n",
    "    ('food', 'viveres'),\n",
    "    ('where', 'donde'),\n",
    "    \n",
    "])\n",
    "def translate_word(word):\n",
    "    translated_word = translations.get(word.lower())\n",
    "    if translated_word:\n",
    "        return translated_word.lower()\n",
    "    else:\n",
    "        return None\n",
    "while True:\n",
    "    word = input(\"Enter a word to translate from English to Spanish (enter Q to stop): \").strip().upper()\n",
    "    if word == 'Q':\n",
    "        break\n",
    "    elif word in translations:\n",
    "        translation = translate_word(word)\n",
    "        print(f\"The Spanish word for {word.lower()} is {translation}.\")\n",
    "    else:\n",
    "        print(f\"The Spanish word for {word.lower()} is not in this dictionary.\")\n",
    "    "
   ]
  },
  {
   "cell_type": "markdown",
   "id": "b10190d9-ef56-42a4-8a1f-daf684887976",
   "metadata": {},
   "source": [
    "### Problem 2 - Translating Morse Code"
   ]
  },
  {
   "cell_type": "code",
   "execution_count": 18,
   "id": "30b680f0-1a74-4586-b4b2-0f75978065bb",
   "metadata": {
    "tags": []
   },
   "outputs": [
    {
     "name": "stdin",
     "output_type": "stream",
     "text": [
      "Enter a sentence to translate to Morse code (enter lowercase 'q' to quit):  Hello my name is Carson and my favorite number is 17\n"
     ]
    },
    {
     "name": "stdout",
     "output_type": "stream",
     "text": [
      "Morse code translation: .... . .-.. .-.. --- / -- -.-- / -. .- -- . / .. ... / -.-. .- .-. ... --- -. / .- -. -.. / -- -.-- / ..-. .- ...- --- .-. .. - . / -. ..- -- -... . .-. / .. ... / .---- --...\n"
     ]
    },
    {
     "name": "stdin",
     "output_type": "stream",
     "text": [
      "Enter a sentence to translate to Morse code (enter lowercase 'q' to quit):  q\n"
     ]
    },
    {
     "name": "stdout",
     "output_type": "stream",
     "text": [
      "stop\n"
     ]
    }
   ],
   "source": [
    "\n",
    "morse_code_mappings = {\n",
    "    'A': '.-', 'B': '-...', 'C': '-.-.', 'D': '-..', 'E': '.', 'F': '..-.', 'G': '--.', 'H': '....', 'I': '..', 'J': '.---',\n",
    "    'K': '-.-', 'L': '.-..', 'M': '--', 'N': '-.', 'O': '---', 'P': '.--.', 'Q': '--.-', 'R': '.-.', 'S': '...', 'T': '-',\n",
    "    'U': '..-', 'V': '...-', 'W': '.--', 'X': '-..-', 'Y': '-.--', 'Z': '--..',\n",
    "    '0': '-----', '1': '.----', '2': '..---', '3': '...--', '4': '....-', '5': '.....',\n",
    "    '6': '-....', '7': '--...', '8': '---..', '9': '----.'\n",
    "}\n",
    "def translate_to_morse(sentence):\n",
    "    morse_code = ''\n",
    "    for char in sentence.upper():\n",
    "        if char in morse_code_mappings:\n",
    "            morse_code += morse_code_mappings[char] + ' '\n",
    "        elif char == ' ':\n",
    "            morse_code += '/ '\n",
    "    return morse_code.strip()\n",
    "while True:\n",
    "    message = input(\"Enter a sentence to translate to Morse code (enter lowercase 'q' to quit): \")\n",
    "    if message.lower() == 'q':\n",
    "        print(\"stop\")\n",
    "        break\n",
    "    morse_translation = translate_to_morse(message)\n",
    "    print(\"Morse code translation:\", morse_translation)"
   ]
  },
  {
   "cell_type": "markdown",
   "id": "4d3b4760-cb54-4a8b-be80-dcedc496aa0c",
   "metadata": {},
   "source": [
    "### Problem 3 - Comparing Minors/Majors"
   ]
  },
  {
   "cell_type": "code",
   "execution_count": 19,
   "id": "6af122de-311e-4f92-ac08-58a4dae32710",
   "metadata": {
    "tags": []
   },
   "outputs": [
    {
     "name": "stdout",
     "output_type": "stream",
     "text": [
      "Courses overlapping between Business Administration and Business Analytics minors: {'MATH125', 'BUSA103', 'MATH117'}\n",
      "Courses required for Business Administration minor and Computer Science minor: {'CS330', 'CS130', 'MATH117', 'CS305', 'ACCT101', 'BUSA301', 'BUSA203', 'CS215', 'CS131', 'CS341', 'ECON110', 'FINA315', 'CS415', 'CS335', 'BUSA103', 'CS310', 'MATH125', 'BUSA305'}\n",
      "Courses in Business Administration minor but not in Business Analytics minor: {'ACCT101', 'BUSA301', 'BUSA203', 'ECON110', 'FINA315', 'BUSA305'}\n",
      "There are no overlapping courses between Computer Science major and Data Science major.\n",
      "Business Analytics minor is not completely subsumed by Data Science major.\n"
     ]
    }
   ],
   "source": [
    "\n",
    "computer_science_minor = {'CS130', 'CS131', 'CS215', 'CS305', 'CS310', 'CS330', 'CS335', 'CS341', 'CS415'}\n",
    "business_administration_minor = {'BUSA103', 'BUSA203', 'BUSA301','BUSA305', 'ACCT101', 'ECON110', 'FINA315', 'MATH125', 'MATH117'}\n",
    "business_analytics_minor = {'BUSA103', 'BUSA245', 'BUSA346', 'CS150', 'DS160', 'DS300', 'MATH117', 'MATH125', 'MATH205'}\n",
    "data_science_major = {'BUSA103', 'BUSA245', 'BUSA346', 'CS150', 'DS160', 'DS300', 'DS450', 'MATH205', 'MATH215', 'MATH430', 'ECON410', 'ECON322', 'ECON351', 'DS444',\n",
    "'ECON110', 'ECON111', 'MATH117'}\n",
    "overlap_courses = business_administration_minor.intersection(business_analytics_minor)\n",
    "print(\"Courses overlapping between Business Administration and Business Analytics minors:\", overlap_courses)\n",
    "all_courses = business_administration_minor.union(computer_science_minor)\n",
    "print(\"Courses required for Business Administration minor and Computer Science minor:\", all_courses)\n",
    "ba_only_courses = business_administration_minor.difference(business_analytics_minor)\n",
    "print(\"Courses in Business Administration minor but not in Business Analytics minor:\", ba_only_courses)\n",
    "cs_ds_overlap = computer_science_minor.intersection(data_science_major)\n",
    "if cs_ds_overlap:\n",
    "    print(\"There are overlapping courses between Computer Science major and Data Science major.\")\n",
    "else:\n",
    "    print(\"There are no overlapping courses between Computer Science major and Data Science major.\")\n",
    "ba_in_ds = business_analytics_minor.issubset(data_science_major)\n",
    "if ba_in_ds:\n",
    "    print(\"Business Analytics minor is completely subsumed by Data Science major.\")\n",
    "else:\n",
    "    print(\"Business Analytics minor is not completely subsumed by Data Science major.\")\n"
   ]
  },
  {
   "cell_type": "markdown",
   "id": "777e1cc6-de13-4002-bd07-62c4ad86cbe5",
   "metadata": {},
   "source": [
    "### Problem 4 - Working with NumPy"
   ]
  },
  {
   "cell_type": "code",
   "execution_count": 17,
   "id": "d2466533-0ed2-4a53-ace4-d565d1ec2dc6",
   "metadata": {
    "tags": []
   },
   "outputs": [
    {
     "name": "stdout",
     "output_type": "stream",
     "text": [
      "Array 1:\n",
      "[[ 3  5 17  6  4]\n",
      " [10  0  7 13  5]\n",
      " [20 19  3  2 16]\n",
      " [18 15 14  5  2]\n",
      " [18 19 19  1  6]]\n",
      "Array 2:\n",
      "[[13 17 10 13 15]\n",
      " [ 4  5  6 19 14]\n",
      " [13 17  2  2 16]\n",
      " [ 0 15  3 16  3]\n",
      " [ 5  1  9  5 17]]\n",
      "Matrix Product:\n",
      "[[300 459 148 284 473]\n",
      " [246 489 198 377 386]\n",
      " [455 532 470 739 892]\n",
      " [486 696 331 637 753]\n",
      " [587 745 389 679 945]]\n",
      "Dot Product:\n",
      "2420\n",
      "Determinant of Array 1: -133434.9999999999\n",
      "Inverse of Array 1:\n",
      "[[-0.19151647  0.14344063 -0.0705587  -0.16517405  0.25135834]\n",
      " [ 0.19563083 -0.19754937  0.10365346  0.30626897 -0.34429498]\n",
      " [-0.01972496  0.04811331 -0.04937235 -0.10994866  0.14136471]\n",
      " [ 0.16156181 -0.08101323  0.07004909  0.25086372 -0.31061566]\n",
      " [-0.00941282  0.0563945   0.02811107 -0.16796942  0.10697343]]\n",
      "Determinant of Array 2: 269819.99999999977\n",
      "Inverse of Array 2:\n",
      "[[ 0.11162256  0.06798236 -0.00806834 -0.13178045 -0.12362686]\n",
      " [-0.01726336 -0.06357201  0.02515381  0.076892    0.03034245]\n",
      " [ 0.09410718 -0.10235713 -0.09568601  0.03017567  0.08599066]\n",
      " [ 0.01465421  0.07586169 -0.01619969 -0.01975762 -0.05667111]\n",
      " [-0.08594619  0.01562153  0.05631532  0.0240716   0.06454303]]\n",
      "Combined 1D array:\n",
      "[0.         0.05263158 0.10526316 0.15789474 0.21052632 0.26315789\n",
      " 0.31578947 0.36842105 0.42105263 0.47368421 0.52631579 0.57894737\n",
      " 0.63157895 0.68421053 0.73684211 0.78947368 0.84210526 0.89473684\n",
      " 0.94736842 1.         1.         1.05263158 1.10526316 1.15789474\n",
      " 1.21052632 1.26315789 1.31578947 1.36842105 1.42105263 1.47368421\n",
      " 1.52631579 1.57894737 1.63157895 1.68421053 1.73684211 1.78947368\n",
      " 1.84210526 1.89473684 1.94736842 2.        ]\n",
      "Reshaped 2D array:\n",
      "[[0.         0.05263158 0.10526316 0.15789474]\n",
      " [0.21052632 0.26315789 0.31578947 0.36842105]\n",
      " [0.42105263 0.47368421 0.52631579 0.57894737]\n",
      " [0.63157895 0.68421053 0.73684211 0.78947368]\n",
      " [0.84210526 0.89473684 0.94736842 1.        ]\n",
      " [1.         1.05263158 1.10526316 1.15789474]\n",
      " [1.21052632 1.26315789 1.31578947 1.36842105]\n",
      " [1.42105263 1.47368421 1.52631579 1.57894737]\n",
      " [1.63157895 1.68421053 1.73684211 1.78947368]\n",
      " [1.84210526 1.89473684 1.94736842 2.        ]]\n"
     ]
    }
   ],
   "source": [
    "import numpy as np\n",
    "array1 = np.random.randint(0, 21, size=(5, 5))\n",
    "array2 = np.random.randint(0, 21, size=(5, 5))\n",
    "print(\"Array 1:\")\n",
    "print(array1)\n",
    "print(\"Array 2:\")\n",
    "print(array2)\n",
    "matrix_product = np.matmul(array1, array2)\n",
    "dot_product = np.dot(array1.flatten(), array2.flatten())\n",
    "determinant_array1 = np.linalg.det(array1)\n",
    "inverse_array1 = np.linalg.inv(array1)\n",
    "determinant_array2 = np.linalg.det(array2)\n",
    "inverse_array2 = np.linalg.inv(array2)\n",
    "array1d_1 = np.linspace(0, 1, num=20)\n",
    "array1d_2 = np.linspace(1, 2, num=20)\n",
    "combined_array = np.concatenate((array1d_1, array1d_2))\n",
    "reshaped_array = combined_array.reshape(10, 4)\n",
    "print(\"Matrix Product:\")\n",
    "print(matrix_product)\n",
    "print(\"Dot Product:\")\n",
    "print(dot_product)\n",
    "print(\"Determinant of Array 1:\", determinant_array1)\n",
    "print(\"Inverse of Array 1:\")\n",
    "print(inverse_array1)\n",
    "print(\"Determinant of Array 2:\", determinant_array2)\n",
    "print(\"Inverse of Array 2:\")\n",
    "print(inverse_array2)\n",
    "print(\"Combined 1D array:\")\n",
    "print(combined_array)\n",
    "print(\"Reshaped 2D array:\")\n",
    "print(reshaped_array)"
   ]
  }
 ],
 "metadata": {
  "kernelspec": {
   "display_name": "Python 3 (ipykernel)",
   "language": "python",
   "name": "python3"
  },
  "language_info": {
   "codemirror_mode": {
    "name": "ipython",
    "version": 3
   },
   "file_extension": ".py",
   "mimetype": "text/x-python",
   "name": "python",
   "nbconvert_exporter": "python",
   "pygments_lexer": "ipython3",
   "version": "3.11.5"
  }
 },
 "nbformat": 4,
 "nbformat_minor": 5
}
